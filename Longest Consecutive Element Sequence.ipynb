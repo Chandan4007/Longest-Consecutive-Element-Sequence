{
 "cells": [
  {
   "cell_type": "code",
   "execution_count": 2,
   "id": "b7b2d102",
   "metadata": {},
   "outputs": [
    {
     "name": "stdout",
     "output_type": "stream",
     "text": [
      "4\n"
     ]
    }
   ],
   "source": [
    "def longest_consecutive_sequence(nums):\n",
    "    num_set = set(nums)  # create a hash set of the input array\n",
    "    max_length = 0\n",
    "    for num in num_set:\n",
    "        if num - 1 not in num_set:  # check if the current number is the start of a sequence\n",
    "            curr_num = num\n",
    "            curr_length = 1\n",
    "            while curr_num + 1 in num_set:  # count the length of the consecutive sequence\n",
    "                curr_num += 1\n",
    "                curr_length += 1\n",
    "            max_length = max(max_length, curr_length)  # update max_length if necessary\n",
    "    return max_length\n",
    "\n",
    "# Example usage\n",
    "nums = [100, 4, 200, 1, 3, 2]\n",
    "print(longest_consecutive_sequence(nums))  # Output: 4\n"
   ]
  },
  {
   "cell_type": "code",
   "execution_count": null,
   "id": "9fd41f6b",
   "metadata": {},
   "outputs": [],
   "source": []
  }
 ],
 "metadata": {
  "kernelspec": {
   "display_name": "Python 3",
   "language": "python",
   "name": "python3"
  },
  "language_info": {
   "codemirror_mode": {
    "name": "ipython",
    "version": 3
   },
   "file_extension": ".py",
   "mimetype": "text/x-python",
   "name": "python",
   "nbconvert_exporter": "python",
   "pygments_lexer": "ipython3",
   "version": "3.6.15"
  }
 },
 "nbformat": 4,
 "nbformat_minor": 5
}
